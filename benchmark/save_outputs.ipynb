{
 "cells": [
  {
   "cell_type": "code",
   "execution_count": 2,
   "id": "46fd31ec-e480-49e5-866a-3259a45c5b5d",
   "metadata": {},
   "outputs": [],
   "source": [
    "import os\n",
    "import shutil\n",
    "import glob\n",
    "from tqdm import tqdm"
   ]
  },
  {
   "cell_type": "code",
   "execution_count": 5,
   "id": "338cc258-b134-446f-812b-3a48d88dc739",
   "metadata": {},
   "outputs": [],
   "source": [
    "# all_models=['lowres_resnet9','lowres_resnet50']\n",
    "all_models=['lowres_resnet9','lowres_resnet50','lowres_densenet121','lowres_vgg16_bn']\n",
    "all_datasets=['cifar10']\n",
    "\n",
    "# checkpoint_root_dst=\"checkpoints-saves/sweep_complete/sweep_3\"\n",
    "# wandb_name=\"SWEEPComplete\"\n",
    "# checkpoint_root_src=\"../SSD/\"\n",
    "output_dir_src=\"output_sweep_mini\"\n",
    "output_dir_dst=\"output_sweep_complete\"\n",
    "\n",
    "def copy_all_results(check_point_name,version_number):\n",
    "    save_checkpoints(check_point_name)\n",
    "    save_output(version_number)\n",
    "    \n",
    "def save_checkpoints(check_point_name):\n",
    "    if os.path.exists(os.path.join(checkpoint_root_dst,check_point_name)):\n",
    "        raise FileExistsError\n",
    "    os.mkdir(os.path.join(checkpoint_root_dst,check_point_name))\n",
    "    for model in all_models:\n",
    "        for dataset in all_datasets:            \n",
    "            shutil.copytree(os.path.join(checkpoint_root_src,f\"{model}_{model}{dataset}\"),os.path.join(checkpoint_root_dst,check_point_name,f\"{model}_{model}{dataset}\"))   \n",
    "            \n",
    "def save_output(version_number):\n",
    "    for model in all_models:\n",
    "        for dataset in all_datasets:\n",
    "            if not os.path.exists(os.path.join(output_dir_dst,dataset,model)):\n",
    "                os.makedirs(os.path.join(output_dir_dst,dataset,model))\n",
    "            version=0\n",
    "            while(os.path.exists(os.path.join(output_dir_dst,dataset,model,f\"version_{version}\"))):\n",
    "                version=version+1\n",
    "                \n",
    "            # print(os.path.join(output_dir_src,dataset,model,f\"version_{version_number}\"))\n",
    "            # print(os.path.join(output_dir_dst,dataset,model,f\"version_{version}\"))\n",
    "            #copy outputs\n",
    "            shutil.copytree(os.path.join(output_dir_src,dataset,model,f\"version_{version_number}\"),os.path.join(output_dir_dst,dataset,model,f\"version_{version}\"))\n",
    "            # copy checkpoints\n",
    "            if not os.path.exists(os.path.join(output_dir_dst,dataset,model,f\"version_{version}\",\"checkpoints\")):\n",
    "                shutil.copytree(glob.glob(os.path.join(checkpoint_root_src,f\"{model}_{wandb_name}{model}\",\"*\",\"checkpoints\"))[0],os.path.join(output_dir_dst,dataset,model,f\"version_{version}\",\"checkpoints\"))\n",
    "            \n",
    "               \n",
    "def save_output_range(start,end,safe=True):\n",
    "    if(end-start!=6 and safe):\n",
    "        print(\"Range to small\")\n",
    "        return\n",
    "    for i in range(start,end+1):\n",
    "        print(f\"Save version_{i}\")\n",
    "        save_output(i)      "
   ]
  },
  {
   "cell_type": "code",
   "execution_count": 4,
   "id": "d65a4d6b-4ae5-4637-af3e-f8aed55143ac",
   "metadata": {},
   "outputs": [
    {
     "name": "stderr",
     "output_type": "stream",
     "text": [
      "100%|██████████| 100/100 [04:33<00:00,  2.73s/it]\n"
     ]
    }
   ],
   "source": [
    "for o in tqdm(list(range(1,101))):  \n",
    "    # print(o)\n",
    "    save_output(o)    "
   ]
  },
  {
   "cell_type": "code",
   "execution_count": 6,
   "id": "e00d67da-b83c-40aa-ad82-6a43a899ed39",
   "metadata": {},
   "outputs": [],
   "source": [
    "save_output(7)"
   ]
  },
  {
   "cell_type": "code",
   "execution_count": 4,
   "id": "b8b0c299-bf88-42cb-bfb2-fbcad9d56a05",
   "metadata": {},
   "outputs": [
    {
     "data": {
      "text/plain": [
       "'checkpoints-saves/sweep_complete/sweep_3/output/'"
      ]
     },
     "execution_count": 4,
     "metadata": {},
     "output_type": "execute_result"
    }
   ],
   "source": [
    "for model in all_models:\n",
    "        for dataset in all_datasets:\n",
    "            shutil.copytree(os.path.join(checkpoint_root_src,f\"{model}_{wandb_name}{dataset}\"),os.path.join(checkpoint_root_dst,f\"{model}_{wandb_name}{dataset}\"))\n",
    "shutil.copytree(os.path.join(checkpoint_root_src,\"wandb/\"),os.path.join(checkpoint_root_dst,\"wandb/\"))\n",
    "shutil.copytree(output_dir_src,os.path.join(checkpoint_root_dst,\"output/\"))"
   ]
  },
  {
   "cell_type": "code",
   "execution_count": null,
   "id": "262159b5-877e-4597-a992-825494947759",
   "metadata": {},
   "outputs": [],
   "source": []
  }
 ],
 "metadata": {
  "kernelspec": {
   "display_name": "Python 3 (ipykernel)",
   "language": "python",
   "name": "python3"
  },
  "language_info": {
   "codemirror_mode": {
    "name": "ipython",
    "version": 3
   },
   "file_extension": ".py",
   "mimetype": "text/x-python",
   "name": "python",
   "nbconvert_exporter": "python",
   "pygments_lexer": "ipython3",
   "version": "3.9.12"
  }
 },
 "nbformat": 4,
 "nbformat_minor": 5
}
