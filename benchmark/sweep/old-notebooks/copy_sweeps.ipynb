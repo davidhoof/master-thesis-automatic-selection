{
 "cells": [
  {
   "cell_type": "code",
   "execution_count": 1,
   "id": "425d044a-3fde-4431-9a40-b188bb960412",
   "metadata": {
    "pycharm": {
     "name": "#%%\n"
    }
   },
   "outputs": [],
   "source": [
    "import os\n",
    "import shutil\n",
    "import glob\n",
    "import wandb"
   ]
  },
  {
   "cell_type": "code",
   "execution_count": 2,
   "id": "588b55d3-e3b7-4c10-b2bc-925cf1ede691",
   "metadata": {
    "pycharm": {
     "name": "#%%\n"
    }
   },
   "outputs": [],
   "source": [
    "sweep_name=\"SWEEPComplete\"\n",
    "root_path=\"running/sweepcomplete\"\n",
    "output_from=\"output/\"\n",
    "output_to_path=\"output_sweep_complete/\"\n",
    "checkpoint_order={\n",
    "    \"cifar10\":0,\n",
    "    \"cifar100\":1,\n",
    "    \"grocerystore\":2,\n",
    "    \"svhn\":3,\n",
    "    \"tinyimagenet\":4\n",
    "}"
   ]
  },
  {
   "cell_type": "code",
   "execution_count": 3,
   "id": "aab92968-3d89-450c-b80e-96c27c860fab",
   "metadata": {
    "pycharm": {
     "name": "#%%\n"
    }
   },
   "outputs": [],
   "source": [
    "def get_max_str(lst):\n",
    "    return max(lst, key=len)"
   ]
  },
  {
   "cell_type": "code",
   "execution_count": 4,
   "id": "106cc54b-cbbb-4a4b-8c42-b24be5327051",
   "metadata": {
    "pycharm": {
     "name": "#%%\n"
    }
   },
   "outputs": [],
   "source": [
    "def find_identifiers(run_name):\n",
    "    paths=glob.glob(os.path.join(root_path,f\"lowres_*/*{run_name}\"))    \n",
    "    if len(paths)!=1:\n",
    "        raise FileNotFoundError(f\"Run {run_name} could not be found\")\n",
    "    glob_tokens=paths[0].split(\"/\")\n",
    "    path_tokens=get_max_str(glob_tokens).split(\"_\")\n",
    "    run_tokens=glob_tokens[3].split(f\"_{run_name}\")[0]\n",
    "    run=run_tokens.split(f\"_{run_name}\")[0]\n",
    "    if len(path_tokens)==4:\n",
    "        model=f\"{path_tokens[0]}_{path_tokens[1]}_{path_tokens[2]}\"\n",
    "        dataset=path_tokens[3].split(sweep_name)[1]\n",
    "    else:\n",
    "        model=f\"{path_tokens[0]}_{path_tokens[1]}\"\n",
    "        dataset=path_tokens[2].split(sweep_name)[1]    \n",
    "    return model,dataset,run"
   ]
  },
  {
   "cell_type": "code",
   "execution_count": 5,
   "id": "4d9e5c6c-176d-40fd-ba07-ccbf647a0165",
   "metadata": {
    "pycharm": {
     "name": "#%%\n"
    }
   },
   "outputs": [],
   "source": [
    "def copy_sweep(run_name):\n",
    "    model,dataset,run=find_identifiers(run_name)\n",
    "    from_path=os.path.join(root_path,output_from,dataset,model,f\"version_{run}\")\n",
    "    to_path=os.path.join(output_to_path,dataset,model,f\"version_{run}\")\n",
    "    from_path_checkpoint=glob.glob(os.path.join(root_path,f\"lowres_*/*{run_name}/checkpoints\"))[0]\n",
    "    to_path_checkpoint=os.path.join(output_to_path,dataset,model,f\"version_{run}/checkpoints\")\n",
    "    \n",
    "    appendix=2\n",
    "    while(os.path.exists(to_path)):\n",
    "        to_path=os.path.join(output_to_path,dataset,model,f\"version_{run}_{appendix}\")\n",
    "        to_path_checkpoint=os.path.join(output_to_path,dataset,model,f\"version_{run}_{appendix}/checkpoints\")\n",
    "        appendix=appendix+1\n",
    "    shutil.copytree(from_path,to_path)\n",
    "    shutil.copytree(from_path_checkpoint,to_path_checkpoint)\n",
    "    return run, dataset"
   ]
  },
  {
   "cell_type": "code",
   "execution_count": 6,
   "id": "af52846b-fcc7-479f-8066-1fc76e7bdfbf",
   "metadata": {
    "pycharm": {
     "name": "#%%\n"
    }
   },
   "outputs": [],
   "source": [
    "def get_best_run(sweep_id):\n",
    "    api = wandb.Api()\n",
    "    sweep = api.sweep(sweep_id)       \n",
    "    model, dataset, _id=sweep.best_run(order=\"summary_metrics.acc_max/val\").name.split(\"-\")\n",
    "    dataset_trained_on=str(sweep.name).replace(model,\"\")\n",
    "    return model, dataset_trained_on, _id"
   ]
  },
  {
   "cell_type": "code",
   "execution_count": 7,
   "id": "f9921e81-9511-4bfd-8a36-3a1510e3d32c",
   "metadata": {
    "pycharm": {
     "name": "#%%\n"
    }
   },
   "outputs": [],
   "source": [
    "def get_sweeps(command_path):\n",
    "    with open(command_path,\"r\") as file:\n",
    "        lines = file.readlines()\n",
    "        sweep_list = [line.rstrip().split(\" \")[2] for line in lines]\n",
    "    return sweep_list"
   ]
  },
  {
   "cell_type": "code",
   "execution_count": 8,
   "id": "651754e7-0a42-41a6-9521-beb73844d0b5",
   "metadata": {
    "pycharm": {
     "name": "#%%\n"
    }
   },
   "outputs": [],
   "source": [
    "def copy_sweeps(sweep_command_path):\n",
    "    sweeps=get_sweeps(sweep_command_path)\n",
    "    for sweep in sweeps:\n",
    "        try:\n",
    "            model,dataset_trained_on,best_run_id=get_best_run(sweep)\n",
    "            # print(dataset_trained_on)\n",
    "            run_id,dataset=copy_sweep(best_run_id)            \n",
    "            os.rename(os.path.join(output_to_path,dataset,model,f\"version_{run_id}\"),os.path.join(output_to_path,dataset,model,f\"version_{checkpoint_order[dataset_trained_on]}\"))\n",
    "        except:\n",
    "            print(\"could not copy\")\n",
    "            \n",
    "        # print(os.path.join(output_to_path,dataset,model,f\"version_{run_id}\"),os.path.join(output_to_path,dataset,model,f\"version_{checkpoint_order[dataset_trained_on]}\"))"
   ]
  },
  {
   "cell_type": "code",
   "execution_count": 15,
   "id": "b1ab1cdd-300e-44e4-9aea-7ac774eab72e",
   "metadata": {
    "pycharm": {
     "name": "#%%\n"
    }
   },
   "outputs": [
    {
     "name": "stderr",
     "output_type": "stream",
     "text": [
      "\u001B[34m\u001B[1mwandb\u001B[0m: Sorting runs by -summary_metrics.acc_max/val\n",
      "\u001B[34m\u001B[1mwandb\u001B[0m: Sorting runs by -summary_metrics.acc_max/val\n",
      "\u001B[34m\u001B[1mwandb\u001B[0m: Sorting runs by -summary_metrics.acc_max/val\n",
      "\u001B[34m\u001B[1mwandb\u001B[0m: Sorting runs by -summary_metrics.acc_max/val\n",
      "\u001B[34m\u001B[1mwandb\u001B[0m: Sorting runs by -summary_metrics.acc_max/val\n",
      "\u001B[34m\u001B[1mwandb\u001B[0m: Sorting runs by -summary_metrics.acc_max/val\n",
      "\u001B[34m\u001B[1mwandb\u001B[0m: Sorting runs by -summary_metrics.acc_max/val\n",
      "\u001B[34m\u001B[1mwandb\u001B[0m: Sorting runs by -summary_metrics.acc_max/val\n",
      "\u001B[34m\u001B[1mwandb\u001B[0m: Sorting runs by -summary_metrics.acc_max/val\n",
      "\u001B[34m\u001B[1mwandb\u001B[0m: Sorting runs by -summary_metrics.acc_max/val\n",
      "\u001B[34m\u001B[1mwandb\u001B[0m: Sorting runs by -summary_metrics.acc_max/val\n",
      "\u001B[34m\u001B[1mwandb\u001B[0m: Sorting runs by -summary_metrics.acc_max/val\n",
      "\u001B[34m\u001B[1mwandb\u001B[0m: Sorting runs by -summary_metrics.acc_max/val\n",
      "\u001B[34m\u001B[1mwandb\u001B[0m: Sorting runs by -summary_metrics.acc_max/val\n",
      "\u001B[34m\u001B[1mwandb\u001B[0m: Sorting runs by -summary_metrics.acc_max/val\n",
      "\u001B[34m\u001B[1mwandb\u001B[0m: Sorting runs by -summary_metrics.acc_max/val\n",
      "\u001B[34m\u001B[1mwandb\u001B[0m: Sorting runs by -summary_metrics.acc_max/val\n",
      "\u001B[34m\u001B[1mwandb\u001B[0m: Sorting runs by -summary_metrics.acc_max/val\n",
      "\u001B[34m\u001B[1mwandb\u001B[0m: Sorting runs by -summary_metrics.acc_max/val\n",
      "\u001B[34m\u001B[1mwandb\u001B[0m: Sorting runs by -summary_metrics.acc_max/val\n"
     ]
    }
   ],
   "source": [
    "copy_sweeps(\"running/sweepcomplete/python_files_sweep/SWEEPCompletetinyimagenet/sweep_agent_commands17_07_2022_11.txt\")"
   ]
  },
  {
   "cell_type": "code",
   "execution_count": 10,
   "id": "28f3e7be-0b15-4e0f-91ae-aacf7e77d899",
   "metadata": {
    "pycharm": {
     "name": "#%%\n"
    }
   },
   "outputs": [],
   "source": [
    "# copy_sweep(\"sirlngcd\")"
   ]
  },
  {
   "cell_type": "code",
   "execution_count": null,
   "id": "3bcf5d87-96ae-4c2a-b66e-7191835c334b",
   "metadata": {
    "pycharm": {
     "name": "#%%\n"
    }
   },
   "outputs": [],
   "source": []
  }
 ],
 "metadata": {
  "kernelspec": {
   "display_name": "Python 3 (ipykernel)",
   "language": "python",
   "name": "python3"
  },
  "language_info": {
   "codemirror_mode": {
    "name": "ipython",
    "version": 3
   },
   "file_extension": ".py",
   "mimetype": "text/x-python",
   "name": "python",
   "nbconvert_exporter": "python",
   "pygments_lexer": "ipython3",
   "version": "3.9.12"
  }
 },
 "nbformat": 4,
 "nbformat_minor": 5
}