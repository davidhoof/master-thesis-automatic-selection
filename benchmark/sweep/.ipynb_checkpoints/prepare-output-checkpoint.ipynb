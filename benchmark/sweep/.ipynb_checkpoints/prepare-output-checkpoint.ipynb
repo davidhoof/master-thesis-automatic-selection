{
 "cells": [
  {
   "cell_type": "code",
   "execution_count": 1,
   "id": "b812bbb1-d28e-4894-8029-2f3adfd99317",
   "metadata": {},
   "outputs": [],
   "source": [
    "import os\n",
    "import shutil"
   ]
  },
  {
   "cell_type": "code",
   "execution_count": 2,
   "id": "c8db8541-dd2e-4f0d-b55b-4c33b4851c55",
   "metadata": {},
   "outputs": [],
   "source": [
    "all_models=['lowres_densenet121','lowres_resnet50','lowres_resnet9','lowres_vgg16_bn']\n",
    "all_datasets=[('cifar10','version_0'),\n",
    "              ('cifar100','version_0'),\n",
    "              # ('fashionmnist','version_0'),\n",
    "              # ('fractaldb60','version_0'),\n",
    "              ('grocerystore','version_0'),\n",
    "              ('histaerial25x25','version_0'),\n",
    "              ('histaerial50x50','version_0'),\n",
    "              ('svhn','version_0'),\n",
    "              ('tinyimagenet','version_0')]"
   ]
  },
  {
   "cell_type": "code",
   "execution_count": 11,
   "id": "5a409fd6-89f4-483c-b369-21758f31e7c2",
   "metadata": {},
   "outputs": [],
   "source": [
    "def copy_to_output(from_folder, to_folder):\n",
    "    for model in all_models:\n",
    "        for (dataset, version) in all_datasets:\n",
    "            from_path=os.path.join(from_folder,dataset,model,version)\n",
    "            to_path=os.path.join(to_folder,dataset,model,version)\n",
    "            if not os.path.exists(from_path):\n",
    "                raise FileNotFoundError(f\"{from_path} does not exist\")\n",
    "            if not os.path.exists(to_folder):\n",
    "                os.mkdir(to_folder)\n",
    "            \n",
    "            shutil.copytree(from_path, to_path)"
   ]
  },
  {
   "cell_type": "code",
   "execution_count": 12,
   "id": "62b5cce0-3940-4606-a461-617ca6b89337",
   "metadata": {},
   "outputs": [],
   "source": [
    "copy_to_output(\"output_hyperparameters\",\"output\")"
   ]
  },
  {
   "cell_type": "code",
   "execution_count": null,
   "id": "b2042547-6d73-4067-bd98-e38b80ab09d5",
   "metadata": {},
   "outputs": [],
   "source": []
  }
 ],
 "metadata": {
  "kernelspec": {
   "display_name": "Python 3 (ipykernel)",
   "language": "python",
   "name": "python3"
  },
  "language_info": {
   "codemirror_mode": {
    "name": "ipython",
    "version": 3
   },
   "file_extension": ".py",
   "mimetype": "text/x-python",
   "name": "python",
   "nbconvert_exporter": "python",
   "pygments_lexer": "ipython3",
   "version": "3.9.7"
  }
 },
 "nbformat": 4,
 "nbformat_minor": 5
}
