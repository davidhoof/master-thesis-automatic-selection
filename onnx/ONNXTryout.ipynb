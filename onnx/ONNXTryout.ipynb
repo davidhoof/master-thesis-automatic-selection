{
 "cells": [
  {
   "cell_type": "code",
   "execution_count": 1,
   "id": "6c41f4cf",
   "metadata": {
    "scrolled": true
   },
   "outputs": [
    {
     "name": "stdout",
     "output_type": "stream",
     "text": [
      "Requirement already satisfied: onnx in /opt/conda/lib/python3.8/site-packages (1.8.204)\n",
      "Requirement already satisfied: six in /opt/conda/lib/python3.8/site-packages (from onnx) (1.16.0)\n",
      "Requirement already satisfied: numpy>=1.16.6 in /opt/conda/lib/python3.8/site-packages (from onnx) (1.21.1)\n",
      "Requirement already satisfied: typing-extensions>=3.6.2.1 in /opt/conda/lib/python3.8/site-packages (from onnx) (3.10.0.0)\n",
      "Requirement already satisfied: protobuf in /opt/conda/lib/python3.8/site-packages (from onnx) (3.17.3)\n",
      "\u001b[33mWARNING: Running pip as the 'root' user can result in broken permissions and conflicting behaviour with the system package manager. It is recommended to use a virtual environment instead: https://pip.pypa.io/warnings/venv\u001b[0m\n"
     ]
    }
   ],
   "source": [
    "!pip install onnx"
   ]
  },
  {
   "cell_type": "code",
   "execution_count": 2,
   "id": "b0c9c848",
   "metadata": {},
   "outputs": [],
   "source": [
    "import onnx"
   ]
  },
  {
   "cell_type": "code",
   "execution_count": 9,
   "id": "5eab2f9a",
   "metadata": {},
   "outputs": [
    {
     "data": {
      "text/plain": [
       "True"
      ]
     },
     "execution_count": 9,
     "metadata": {},
     "output_type": "execute_result"
    }
   ],
   "source": [
    "import os\n",
    "os.path.exists(\"mobilenetv2-7.onnx\")"
   ]
  },
  {
   "cell_type": "code",
   "execution_count": 10,
   "id": "d01c2caf",
   "metadata": {
    "scrolled": true
   },
   "outputs": [],
   "source": [
    "model = onnx.load(\"mobilenetv2-7.onnx\")"
   ]
  },
  {
   "cell_type": "code",
   "execution_count": 44,
   "id": "e7855a41",
   "metadata": {},
   "outputs": [],
   "source": [
    "for node in model.graph.node:\n",
    "#     print(node)\n",
    "#     print(node.op_type)\n",
    "    for attributes in node.op_type:\n",
    "         if(layer_type==\"Conv\"):\n",
    "            print(layer_type.attribute)"
   ]
  },
  {
   "cell_type": "code",
   "execution_count": null,
   "id": "0f69062c",
   "metadata": {},
   "outputs": [],
   "source": []
  }
 ],
 "metadata": {
  "kernelspec": {
   "display_name": "Python 3 (ipykernel)",
   "language": "python",
   "name": "python3"
  },
  "language_info": {
   "codemirror_mode": {
    "name": "ipython",
    "version": 3
   },
   "file_extension": ".py",
   "mimetype": "text/x-python",
   "name": "python",
   "nbconvert_exporter": "python",
   "pygments_lexer": "ipython3",
   "version": "3.8.10"
  }
 },
 "nbformat": 4,
 "nbformat_minor": 5
}
