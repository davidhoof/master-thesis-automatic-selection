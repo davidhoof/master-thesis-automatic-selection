{
  "nbformat": 4,
  "nbformat_minor": 0,
  "metadata": {
    "colab": {
      "name": "OnnxRuntimeCheck.ipynb",
      "provenance": []
    },
    "kernelspec": {
      "name": "python3",
      "display_name": "Python 3"
    },
    "language_info": {
      "name": "python"
    }
  },
  "cells": [
    {
      "cell_type": "code",
      "execution_count": 1,
      "metadata": {
        "colab": {
          "base_uri": "https://localhost:8080/"
        },
        "id": "S-b-xf72IaR5",
        "outputId": "b3251f04-676e-4eaa-df93-1c94294d0ee1"
      },
      "outputs": [
        {
          "output_type": "stream",
          "name": "stdout",
          "text": [
            "--2022-04-10 14:23:45--  https://onedrive.live.com/download?cid=A5E3C415BF70F5D8&resid=A5E3C415BF70F5D8%217785&authkey=AP5Xz9M015K8zbc\n",
            "Resolving onedrive.live.com (onedrive.live.com)... 52.179.121.14\n",
            "Connecting to onedrive.live.com (onedrive.live.com)|52.179.121.14|:443... connected.\n",
            "HTTP request sent, awaiting response... 302 Found\n",
            "Location: https://piqdcg.db.files.1drv.com/y4mf7FuJkaCViQjgvqZSHZ7GB7GnlHq5djTloAceDG1CQA72AbI-gc_C1nUj417i4wem1WiUHTTbEMgqUoVLuhrWhOGP8RNSeZ3UVdaXgEB_rgW_ZIplwX4b6ms2Eb3-Vx0oUtuiermyk_4RO_O6Dm-Cx9yhQBF0MDgP5SQX8CHbpeeJ0VC_X8D3DFPETx0EFmKhPQJDbVj4C_zamTDuXJr0A/onnx_partial.tar.xz?download&psid=1 [following]\n",
            "--2022-04-10 14:23:46--  https://piqdcg.db.files.1drv.com/y4mf7FuJkaCViQjgvqZSHZ7GB7GnlHq5djTloAceDG1CQA72AbI-gc_C1nUj417i4wem1WiUHTTbEMgqUoVLuhrWhOGP8RNSeZ3UVdaXgEB_rgW_ZIplwX4b6ms2Eb3-Vx0oUtuiermyk_4RO_O6Dm-Cx9yhQBF0MDgP5SQX8CHbpeeJ0VC_X8D3DFPETx0EFmKhPQJDbVj4C_zamTDuXJr0A/onnx_partial.tar.xz?download&psid=1\n",
            "Resolving piqdcg.db.files.1drv.com (piqdcg.db.files.1drv.com)... 40.90.136.180\n",
            "Connecting to piqdcg.db.files.1drv.com (piqdcg.db.files.1drv.com)|40.90.136.180|:443... connected.\n",
            "HTTP request sent, awaiting response... 200 OK\n",
            "Length: 63795756688 (59G) [application/octet-stream]\n",
            "Saving to: ‘onnx_partial.tar.xz’\n",
            "\n",
            "onnx_partial.tar.xz 100%[===================>]  59.41G  13.6MB/s    in 76m 44s \n",
            "\n",
            "2022-04-10 15:40:32 (13.2 MB/s) - ‘onnx_partial.tar.xz’ saved [63795756688/63795756688]\n",
            "\n"
          ]
        }
      ],
      "source": [
        "!wget -c \"https://onedrive.live.com/download?cid=A5E3C415BF70F5D8&resid=A5E3C415BF70F5D8%217785&authkey=AP5Xz9M015K8zbc\" -O \"onnx_partial.tar.xz\""
      ]
    },
    {
      "cell_type": "code",
      "source": [
        "!mkdir /content/models/\n",
        "!tar -xf onnx_partial.tar.xz -C /content/models/"
      ],
      "metadata": {
        "id": "P1_HCAO3IfAb"
      },
      "execution_count": 2,
      "outputs": []
    },
    {
      "cell_type": "code",
      "source": [
        "!pip install onnxruntime"
      ],
      "metadata": {
        "colab": {
          "base_uri": "https://localhost:8080/"
        },
        "id": "kJTT5T7xIvov",
        "outputId": "5ac6b51f-5067-4c43-86df-c221a9e97b7d"
      },
      "execution_count": 3,
      "outputs": [
        {
          "output_type": "stream",
          "name": "stdout",
          "text": [
            "Collecting onnxruntime\n",
            "  Downloading onnxruntime-1.11.0-cp37-cp37m-manylinux_2_17_x86_64.manylinux2014_x86_64.whl (5.2 MB)\n",
            "\u001b[K     |████████████████████████████████| 5.2 MB 9.5 MB/s \n",
            "\u001b[?25hRequirement already satisfied: flatbuffers in /usr/local/lib/python3.7/dist-packages (from onnxruntime) (2.0)\n",
            "Requirement already satisfied: protobuf in /usr/local/lib/python3.7/dist-packages (from onnxruntime) (3.17.3)\n",
            "Requirement already satisfied: numpy>=1.21.0 in /usr/local/lib/python3.7/dist-packages (from onnxruntime) (1.21.5)\n",
            "Requirement already satisfied: six>=1.9 in /usr/local/lib/python3.7/dist-packages (from protobuf->onnxruntime) (1.15.0)\n",
            "Installing collected packages: onnxruntime\n",
            "Successfully installed onnxruntime-1.11.0\n"
          ]
        }
      ]
    },
    {
      "cell_type": "code",
      "source": [
        "!pip install torch"
      ],
      "metadata": {
        "colab": {
          "base_uri": "https://localhost:8080/"
        },
        "id": "3rwVGUEuI3vj",
        "outputId": "2eddfecc-6050-4d5b-dbf5-e2c4a1caa4b9"
      },
      "execution_count": 4,
      "outputs": [
        {
          "output_type": "stream",
          "name": "stdout",
          "text": [
            "Requirement already satisfied: torch in /usr/local/lib/python3.7/dist-packages (1.10.0+cu111)\n",
            "Requirement already satisfied: typing-extensions in /usr/local/lib/python3.7/dist-packages (from torch) (3.10.0.2)\n"
          ]
        }
      ]
    },
    {
      "cell_type": "code",
      "source": [
        "import onnxruntime\n",
        "import numpy as np\n",
        "import os\n",
        "import glob\n",
        "import pandas as pd\n",
        "from tqdm import tqdm\n",
        "import PIL.Image as Image"
      ],
      "metadata": {
        "id": "m6Ob3TaOI3_i"
      },
      "execution_count": 5,
      "outputs": []
    },
    {
      "cell_type": "code",
      "source": [
        "onnx_path=\"/content/models/onnx_zoo/alexnet_places365_11.onnx\""
      ],
      "metadata": {
        "id": "ogZ1nLkktIGM"
      },
      "execution_count": 6,
      "outputs": []
    },
    {
      "cell_type": "code",
      "source": [
        "!wget -c \"https://db3pap006files.storage.live.com/y4mrPKskxLov4fA-5HlyV5_0B0bM1p9ZBjvbZpmZOG6slVD0SHK4h-TarKzo_RDnltFHjfZBQrlTzDY6Y8QT5-vKgERJfxWa9K3rRXPhKI5BKwQ9RHCvMf5dCvZximq8XGA0RTkFtpKGBMPkcQ7BON1PeYzjgGtVazIbMD9hTFhUolYgFajfFQp2nflggb-dqE-?width=1024&height=768&cropmode=none\" -O \"testimage.jpg\""
      ],
      "metadata": {
        "colab": {
          "base_uri": "https://localhost:8080/"
        },
        "id": "H2l19yNA0Aja",
        "outputId": "7304510d-ae9c-46bd-d1f6-aad91778fae6"
      },
      "execution_count": 7,
      "outputs": [
        {
          "output_type": "stream",
          "name": "stdout",
          "text": [
            "--2022-04-10 17:19:29--  https://db3pap006files.storage.live.com/y4mrPKskxLov4fA-5HlyV5_0B0bM1p9ZBjvbZpmZOG6slVD0SHK4h-TarKzo_RDnltFHjfZBQrlTzDY6Y8QT5-vKgERJfxWa9K3rRXPhKI5BKwQ9RHCvMf5dCvZximq8XGA0RTkFtpKGBMPkcQ7BON1PeYzjgGtVazIbMD9hTFhUolYgFajfFQp2nflggb-dqE-?width=1024&height=768&cropmode=none\n",
            "Resolving db3pap006files.storage.live.com (db3pap006files.storage.live.com)... 13.104.208.165\n",
            "Connecting to db3pap006files.storage.live.com (db3pap006files.storage.live.com)|13.104.208.165|:443... connected.\n",
            "HTTP request sent, awaiting response... 200 OK\n",
            "Length: 184444 (180K) [image/jpeg]\n",
            "Saving to: ‘testimage.jpg’\n",
            "\n",
            "testimage.jpg       100%[===================>] 180.12K   336KB/s    in 0.5s    \n",
            "\n",
            "2022-04-10 17:19:31 (336 KB/s) - ‘testimage.jpg’ saved [184444/184444]\n",
            "\n"
          ]
        }
      ]
    },
    {
      "cell_type": "code",
      "source": [
        "img_path = \"/content/testimage.jpg\""
      ],
      "metadata": {
        "id": "FJjeQsct0QZH"
      },
      "execution_count": 8,
      "outputs": []
    },
    {
      "cell_type": "code",
      "source": [
        "def process_image(img_path,input_shape):\n",
        "    img = Image.open(img_path).convert(\"RGB\")\n",
        "    img = img.resize(input_shape)\n",
        "    image = np.array(img, dtype=np.float32)\n",
        "    image = image.transpose((2,0,1))[np.newaxis, ...]\n",
        "    return image"
      ],
      "metadata": {
        "id": "5oXNhZ-GzztO"
      },
      "execution_count": 9,
      "outputs": []
    },
    {
      "cell_type": "code",
      "source": [
        "def testOnnxRuntime(path):\n",
        "  result=dict()\n",
        "\n",
        "  result['name']=os.path.basename(path)[:-5]\n",
        "\n",
        "  session = onnxruntime.InferenceSession(onnx_path)\n",
        "  inname = [input.name for input in session.get_inputs()]\n",
        "  outname = [output.name for output in session.get_outputs()]\n",
        "\n",
        "  data_input = np.random.randn(*[input.shape for input in session.get_inputs()][0]).astype(np.float32)\n",
        "  try:\n",
        "    data_output = session.run(outname, {inname[0]: data_input})\n",
        "    result['random_successful']=True\n",
        "    result['error_random']=\"NaN\"\n",
        "  except Exception as e:\n",
        "    result['random_successful']=False\n",
        "    result['error_random']=str(e)\n",
        "\n",
        "  data_input = process_image(img_path,tuple([input.shape for input in session.get_inputs()][0][2:4]))\n",
        "  try:\n",
        "    data_output = session.run(outname, {inname[0]: data_input})\n",
        "    result['image_successful']=True\n",
        "    result['error_image']=\"NaN\"\n",
        "  except Exception as e:\n",
        "    result['image_successful']=False\n",
        "    result['error_image']=str(e)\n",
        "\n",
        "  return result"
      ],
      "metadata": {
        "id": "D3xH7XoeuOTm"
      },
      "execution_count": 10,
      "outputs": []
    },
    {
      "cell_type": "code",
      "source": [
        "testOnnxRuntime(onnx_path)"
      ],
      "metadata": {
        "colab": {
          "base_uri": "https://localhost:8080/"
        },
        "id": "cgiGTFfBvm2R",
        "outputId": "d8cf0f0e-3ad5-48c5-f0c8-02d37fb43a94"
      },
      "execution_count": 11,
      "outputs": [
        {
          "output_type": "execute_result",
          "data": {
            "text/plain": [
              "{'error_image': 'NaN',\n",
              " 'error_random': 'NaN',\n",
              " 'image_successful': True,\n",
              " 'name': 'alexnet_places365_11',\n",
              " 'random_successful': True}"
            ]
          },
          "metadata": {},
          "execution_count": 11
        }
      ]
    },
    {
      "cell_type": "code",
      "source": [
        "paths = glob.glob('/content/models/onnx_zoo/**/*.onnx', recursive=True)"
      ],
      "metadata": {
        "id": "95uu0zjvwJVz"
      },
      "execution_count": 12,
      "outputs": []
    },
    {
      "cell_type": "code",
      "source": [
        "len(paths)"
      ],
      "metadata": {
        "colab": {
          "base_uri": "https://localhost:8080/"
        },
        "id": "NhTeudY7sxhb",
        "outputId": "a1f71569-316e-48a9-dc8f-bcdb8c0613c9"
      },
      "execution_count": 13,
      "outputs": [
        {
          "output_type": "execute_result",
          "data": {
            "text/plain": [
              "487"
            ]
          },
          "metadata": {},
          "execution_count": 13
        }
      ]
    },
    {
      "cell_type": "code",
      "source": [
        "df=pd.DataFrame([testOnnxRuntime(path) for path in tqdm(paths)])\n",
        "df"
      ],
      "metadata": {
        "colab": {
          "base_uri": "https://localhost:8080/",
          "height": 441
        },
        "id": "Z6XMBJ0HtViA",
        "outputId": "33735d34-b835-43d0-d726-e942b8053aaf"
      },
      "execution_count": 14,
      "outputs": [
        {
          "output_type": "stream",
          "name": "stderr",
          "text": [
            "100%|██████████| 487/487 [04:10<00:00,  1.95it/s]\n"
          ]
        },
        {
          "output_type": "execute_result",
          "data": {
            "text/plain": [
              "                                           name  random_successful  \\\n",
              "0                       unet_carvana_carvana_11               True   \n",
              "1    agripredict_disease_classification_prop_11               True   \n",
              "2                         tinynet_c_imagenet_11               True   \n",
              "3                          pix2pix_map2sat_g_11               True   \n",
              "4                    cyclegan_apple2orange_g_11               True   \n",
              "..                                          ...                ...   \n",
              "482                   squeezenet1_1_imagenet_11               True   \n",
              "483                        resnet18_imagenet_11               True   \n",
              "484                   squeezenet1_0_imagenet_11               True   \n",
              "485                     densenet161_imagenet_11               True   \n",
              "486                      mnasnet0_5_imagenet_11               True   \n",
              "\n",
              "    error_random  image_successful error_image  \n",
              "0            NaN              True         NaN  \n",
              "1            NaN              True         NaN  \n",
              "2            NaN              True         NaN  \n",
              "3            NaN              True         NaN  \n",
              "4            NaN              True         NaN  \n",
              "..           ...               ...         ...  \n",
              "482          NaN              True         NaN  \n",
              "483          NaN              True         NaN  \n",
              "484          NaN              True         NaN  \n",
              "485          NaN              True         NaN  \n",
              "486          NaN              True         NaN  \n",
              "\n",
              "[487 rows x 5 columns]"
            ],
            "text/html": [
              "\n",
              "  <div id=\"df-7684b138-ba85-4e75-a7f1-dc3111e0be59\">\n",
              "    <div class=\"colab-df-container\">\n",
              "      <div>\n",
              "<style scoped>\n",
              "    .dataframe tbody tr th:only-of-type {\n",
              "        vertical-align: middle;\n",
              "    }\n",
              "\n",
              "    .dataframe tbody tr th {\n",
              "        vertical-align: top;\n",
              "    }\n",
              "\n",
              "    .dataframe thead th {\n",
              "        text-align: right;\n",
              "    }\n",
              "</style>\n",
              "<table border=\"1\" class=\"dataframe\">\n",
              "  <thead>\n",
              "    <tr style=\"text-align: right;\">\n",
              "      <th></th>\n",
              "      <th>name</th>\n",
              "      <th>random_successful</th>\n",
              "      <th>error_random</th>\n",
              "      <th>image_successful</th>\n",
              "      <th>error_image</th>\n",
              "    </tr>\n",
              "  </thead>\n",
              "  <tbody>\n",
              "    <tr>\n",
              "      <th>0</th>\n",
              "      <td>unet_carvana_carvana_11</td>\n",
              "      <td>True</td>\n",
              "      <td>NaN</td>\n",
              "      <td>True</td>\n",
              "      <td>NaN</td>\n",
              "    </tr>\n",
              "    <tr>\n",
              "      <th>1</th>\n",
              "      <td>agripredict_disease_classification_prop_11</td>\n",
              "      <td>True</td>\n",
              "      <td>NaN</td>\n",
              "      <td>True</td>\n",
              "      <td>NaN</td>\n",
              "    </tr>\n",
              "    <tr>\n",
              "      <th>2</th>\n",
              "      <td>tinynet_c_imagenet_11</td>\n",
              "      <td>True</td>\n",
              "      <td>NaN</td>\n",
              "      <td>True</td>\n",
              "      <td>NaN</td>\n",
              "    </tr>\n",
              "    <tr>\n",
              "      <th>3</th>\n",
              "      <td>pix2pix_map2sat_g_11</td>\n",
              "      <td>True</td>\n",
              "      <td>NaN</td>\n",
              "      <td>True</td>\n",
              "      <td>NaN</td>\n",
              "    </tr>\n",
              "    <tr>\n",
              "      <th>4</th>\n",
              "      <td>cyclegan_apple2orange_g_11</td>\n",
              "      <td>True</td>\n",
              "      <td>NaN</td>\n",
              "      <td>True</td>\n",
              "      <td>NaN</td>\n",
              "    </tr>\n",
              "    <tr>\n",
              "      <th>...</th>\n",
              "      <td>...</td>\n",
              "      <td>...</td>\n",
              "      <td>...</td>\n",
              "      <td>...</td>\n",
              "      <td>...</td>\n",
              "    </tr>\n",
              "    <tr>\n",
              "      <th>482</th>\n",
              "      <td>squeezenet1_1_imagenet_11</td>\n",
              "      <td>True</td>\n",
              "      <td>NaN</td>\n",
              "      <td>True</td>\n",
              "      <td>NaN</td>\n",
              "    </tr>\n",
              "    <tr>\n",
              "      <th>483</th>\n",
              "      <td>resnet18_imagenet_11</td>\n",
              "      <td>True</td>\n",
              "      <td>NaN</td>\n",
              "      <td>True</td>\n",
              "      <td>NaN</td>\n",
              "    </tr>\n",
              "    <tr>\n",
              "      <th>484</th>\n",
              "      <td>squeezenet1_0_imagenet_11</td>\n",
              "      <td>True</td>\n",
              "      <td>NaN</td>\n",
              "      <td>True</td>\n",
              "      <td>NaN</td>\n",
              "    </tr>\n",
              "    <tr>\n",
              "      <th>485</th>\n",
              "      <td>densenet161_imagenet_11</td>\n",
              "      <td>True</td>\n",
              "      <td>NaN</td>\n",
              "      <td>True</td>\n",
              "      <td>NaN</td>\n",
              "    </tr>\n",
              "    <tr>\n",
              "      <th>486</th>\n",
              "      <td>mnasnet0_5_imagenet_11</td>\n",
              "      <td>True</td>\n",
              "      <td>NaN</td>\n",
              "      <td>True</td>\n",
              "      <td>NaN</td>\n",
              "    </tr>\n",
              "  </tbody>\n",
              "</table>\n",
              "<p>487 rows × 5 columns</p>\n",
              "</div>\n",
              "      <button class=\"colab-df-convert\" onclick=\"convertToInteractive('df-7684b138-ba85-4e75-a7f1-dc3111e0be59')\"\n",
              "              title=\"Convert this dataframe to an interactive table.\"\n",
              "              style=\"display:none;\">\n",
              "        \n",
              "  <svg xmlns=\"http://www.w3.org/2000/svg\" height=\"24px\"viewBox=\"0 0 24 24\"\n",
              "       width=\"24px\">\n",
              "    <path d=\"M0 0h24v24H0V0z\" fill=\"none\"/>\n",
              "    <path d=\"M18.56 5.44l.94 2.06.94-2.06 2.06-.94-2.06-.94-.94-2.06-.94 2.06-2.06.94zm-11 1L8.5 8.5l.94-2.06 2.06-.94-2.06-.94L8.5 2.5l-.94 2.06-2.06.94zm10 10l.94 2.06.94-2.06 2.06-.94-2.06-.94-.94-2.06-.94 2.06-2.06.94z\"/><path d=\"M17.41 7.96l-1.37-1.37c-.4-.4-.92-.59-1.43-.59-.52 0-1.04.2-1.43.59L10.3 9.45l-7.72 7.72c-.78.78-.78 2.05 0 2.83L4 21.41c.39.39.9.59 1.41.59.51 0 1.02-.2 1.41-.59l7.78-7.78 2.81-2.81c.8-.78.8-2.07 0-2.86zM5.41 20L4 18.59l7.72-7.72 1.47 1.35L5.41 20z\"/>\n",
              "  </svg>\n",
              "      </button>\n",
              "      \n",
              "  <style>\n",
              "    .colab-df-container {\n",
              "      display:flex;\n",
              "      flex-wrap:wrap;\n",
              "      gap: 12px;\n",
              "    }\n",
              "\n",
              "    .colab-df-convert {\n",
              "      background-color: #E8F0FE;\n",
              "      border: none;\n",
              "      border-radius: 50%;\n",
              "      cursor: pointer;\n",
              "      display: none;\n",
              "      fill: #1967D2;\n",
              "      height: 32px;\n",
              "      padding: 0 0 0 0;\n",
              "      width: 32px;\n",
              "    }\n",
              "\n",
              "    .colab-df-convert:hover {\n",
              "      background-color: #E2EBFA;\n",
              "      box-shadow: 0px 1px 2px rgba(60, 64, 67, 0.3), 0px 1px 3px 1px rgba(60, 64, 67, 0.15);\n",
              "      fill: #174EA6;\n",
              "    }\n",
              "\n",
              "    [theme=dark] .colab-df-convert {\n",
              "      background-color: #3B4455;\n",
              "      fill: #D2E3FC;\n",
              "    }\n",
              "\n",
              "    [theme=dark] .colab-df-convert:hover {\n",
              "      background-color: #434B5C;\n",
              "      box-shadow: 0px 1px 3px 1px rgba(0, 0, 0, 0.15);\n",
              "      filter: drop-shadow(0px 1px 2px rgba(0, 0, 0, 0.3));\n",
              "      fill: #FFFFFF;\n",
              "    }\n",
              "  </style>\n",
              "\n",
              "      <script>\n",
              "        const buttonEl =\n",
              "          document.querySelector('#df-7684b138-ba85-4e75-a7f1-dc3111e0be59 button.colab-df-convert');\n",
              "        buttonEl.style.display =\n",
              "          google.colab.kernel.accessAllowed ? 'block' : 'none';\n",
              "\n",
              "        async function convertToInteractive(key) {\n",
              "          const element = document.querySelector('#df-7684b138-ba85-4e75-a7f1-dc3111e0be59');\n",
              "          const dataTable =\n",
              "            await google.colab.kernel.invokeFunction('convertToInteractive',\n",
              "                                                     [key], {});\n",
              "          if (!dataTable) return;\n",
              "\n",
              "          const docLinkHtml = 'Like what you see? Visit the ' +\n",
              "            '<a target=\"_blank\" href=https://colab.research.google.com/notebooks/data_table.ipynb>data table notebook</a>'\n",
              "            + ' to learn more about interactive tables.';\n",
              "          element.innerHTML = '';\n",
              "          dataTable['output_type'] = 'display_data';\n",
              "          await google.colab.output.renderOutput(dataTable, element);\n",
              "          const docLink = document.createElement('div');\n",
              "          docLink.innerHTML = docLinkHtml;\n",
              "          element.appendChild(docLink);\n",
              "        }\n",
              "      </script>\n",
              "    </div>\n",
              "  </div>\n",
              "  "
            ]
          },
          "metadata": {},
          "execution_count": 14
        }
      ]
    },
    {
      "cell_type": "code",
      "source": [
        "df.to_csv(\"runtime_onnx_zoo.csv\")"
      ],
      "metadata": {
        "id": "4dN4oWYd2uOe"
      },
      "execution_count": 15,
      "outputs": []
    },
    {
      "cell_type": "code",
      "source": [
        "len(df[(df['random_successful']==True)])/len(df)*100"
      ],
      "metadata": {
        "colab": {
          "base_uri": "https://localhost:8080/"
        },
        "id": "sKJRqOnVydsv",
        "outputId": "8f65851d-1c7e-4392-e47d-2aa6c3008f19"
      },
      "execution_count": 16,
      "outputs": [
        {
          "output_type": "execute_result",
          "data": {
            "text/plain": [
              "100.0"
            ]
          },
          "metadata": {},
          "execution_count": 16
        }
      ]
    },
    {
      "cell_type": "code",
      "source": [
        "len(df[(df['image_successful']==True)])/len(df)*100"
      ],
      "metadata": {
        "colab": {
          "base_uri": "https://localhost:8080/"
        },
        "id": "eUJe2w552hhS",
        "outputId": "01898d6f-ffce-4eca-c4a9-3af3ecd94f15"
      },
      "execution_count": 17,
      "outputs": [
        {
          "output_type": "execute_result",
          "data": {
            "text/plain": [
              "100.0"
            ]
          },
          "metadata": {},
          "execution_count": 17
        }
      ]
    }
  ]
}