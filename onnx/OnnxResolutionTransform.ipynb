{
  "nbformat": 4,
  "nbformat_minor": 0,
  "metadata": {
    "colab": {
      "name": "OnnxResolutionTransform.ipynb",
      "provenance": []
    },
    "kernelspec": {
      "name": "python3",
      "display_name": "Python 3"
    },
    "language_info": {
      "name": "python"
    }
  },
  "cells": [
    {
      "cell_type": "code",
      "source": [
        "!wget -c \"https://onedrive.live.com/download?cid=A5E3C415BF70F5D8&resid=A5E3C415BF70F5D8%217785&authkey=AP5Xz9M015K8zbc\" -O \"onnx_partial.tar.xz\""
      ],
      "metadata": {
        "colab": {
          "base_uri": "https://localhost:8080/"
        },
        "id": "zq4P7JUaftR0",
        "outputId": "592de64d-68a8-42a8-90c0-0d554a0ae41c"
      },
      "execution_count": 1,
      "outputs": [
        {
          "output_type": "stream",
          "name": "stdout",
          "text": [
            "--2022-04-07 06:52:49--  https://onedrive.live.com/download?cid=A5E3C415BF70F5D8&resid=A5E3C415BF70F5D8%217785&authkey=AP5Xz9M015K8zbc\n",
            "Resolving onedrive.live.com (onedrive.live.com)... 13.107.42.13\n",
            "Connecting to onedrive.live.com (onedrive.live.com)|13.107.42.13|:443... connected.\n",
            "HTTP request sent, awaiting response... 302 Found\n",
            "Location: https://piqdcg.db.files.1drv.com/y4myOzAeJcCV9UJl29q-KqtoEdPC3MYai7Mj7EpHQ8nUM13gbtbQYeBeSMl5YXFZl13K3U95E5Yz5m8QjBif7gSJQ3SlBKomhXCQcxXhDI-4rpAYc1RSh7sSGYzDPxd7qEYZGNXKQ3v8rWza62EgjT2M39cJrxMNJLk3Yzf7JZO2VzH2bby0BtTanNAt9z1LjwIPcq22RSHW9FMsEDbNDGDvQ/onnx_partial.tar.xz?download&psid=1 [following]\n",
            "--2022-04-07 06:52:49--  https://piqdcg.db.files.1drv.com/y4myOzAeJcCV9UJl29q-KqtoEdPC3MYai7Mj7EpHQ8nUM13gbtbQYeBeSMl5YXFZl13K3U95E5Yz5m8QjBif7gSJQ3SlBKomhXCQcxXhDI-4rpAYc1RSh7sSGYzDPxd7qEYZGNXKQ3v8rWza62EgjT2M39cJrxMNJLk3Yzf7JZO2VzH2bby0BtTanNAt9z1LjwIPcq22RSHW9FMsEDbNDGDvQ/onnx_partial.tar.xz?download&psid=1\n",
            "Resolving piqdcg.db.files.1drv.com (piqdcg.db.files.1drv.com)... 13.107.42.12\n",
            "Connecting to piqdcg.db.files.1drv.com (piqdcg.db.files.1drv.com)|13.107.42.12|:443... connected.\n",
            "HTTP request sent, awaiting response... 200 OK\n",
            "Length: 63795756688 (59G) [application/octet-stream]\n",
            "Saving to: ‘onnx_partial.tar.xz’\n",
            "\n",
            "onnx_partial.tar.xz  38%[======>             ]  22.84G  --.-KB/s    in 16m 52s \n",
            "\n",
            "2022-04-07 07:09:43 (23.1 MB/s) - Read error at byte 24522009961/63795756688 (Connection reset by peer). Retrying.\n",
            "\n",
            "--2022-04-07 07:09:44--  (try: 2)  https://piqdcg.db.files.1drv.com/y4myOzAeJcCV9UJl29q-KqtoEdPC3MYai7Mj7EpHQ8nUM13gbtbQYeBeSMl5YXFZl13K3U95E5Yz5m8QjBif7gSJQ3SlBKomhXCQcxXhDI-4rpAYc1RSh7sSGYzDPxd7qEYZGNXKQ3v8rWza62EgjT2M39cJrxMNJLk3Yzf7JZO2VzH2bby0BtTanNAt9z1LjwIPcq22RSHW9FMsEDbNDGDvQ/onnx_partial.tar.xz?download&psid=1\n",
            "Connecting to piqdcg.db.files.1drv.com (piqdcg.db.files.1drv.com)|13.107.42.12|:443... connected.\n",
            "HTTP request sent, awaiting response... 206 Partial Content\n",
            "Length: 63795756688 (59G), 39273746727 (37G) remaining [application/octet-stream]\n",
            "Saving to: ‘onnx_partial.tar.xz’\n",
            "\n",
            "onnx_partial.tar.xz 100%[+++++++============>]  59.41G  29.7MB/s    in 21m 57s \n",
            "\n",
            "2022-04-07 07:31:45 (28.4 MB/s) - ‘onnx_partial.tar.xz’ saved [63795756688/63795756688]\n",
            "\n"
          ]
        }
      ]
    },
    {
      "cell_type": "code",
      "source": [
        "!mkdir /content/models/\n",
        "!tar -xf onnx_partial.tar.xz -C /content/models/"
      ],
      "metadata": {
        "id": "EA4_56RSzayx"
      },
      "execution_count": 4,
      "outputs": []
    },
    {
      "cell_type": "code",
      "source": [
        "!git clone https://github.com/davidhoof/master-thesis-automatic-selection.git"
      ],
      "metadata": {
        "colab": {
          "base_uri": "https://localhost:8080/"
        },
        "id": "IMic2ugty-rf",
        "outputId": "862413db-dadf-43a0-d4c4-93db3bb82287"
      },
      "execution_count": 5,
      "outputs": [
        {
          "output_type": "stream",
          "name": "stdout",
          "text": [
            "Cloning into 'master-thesis-automatic-selection'...\n",
            "remote: Enumerating objects: 123, done.\u001b[K\n",
            "remote: Counting objects: 100% (123/123), done.\u001b[K\n",
            "remote: Compressing objects: 100% (81/81), done.\u001b[K\n",
            "remote: Total 123 (delta 49), reused 109 (delta 35), pack-reused 0\u001b[K\n",
            "Receiving objects: 100% (123/123), 46.70 MiB | 32.55 MiB/s, done.\n",
            "Resolving deltas: 100% (49/49), done.\n"
          ]
        }
      ]
    },
    {
      "cell_type": "code",
      "source": [
        "!pip install onnx"
      ],
      "metadata": {
        "colab": {
          "base_uri": "https://localhost:8080/"
        },
        "id": "d1bR2SSaUI4o",
        "outputId": "95e9d89a-c748-4923-96a6-052e8bd5a7d3"
      },
      "execution_count": 7,
      "outputs": [
        {
          "output_type": "stream",
          "name": "stdout",
          "text": [
            "Collecting onnx\n",
            "  Downloading onnx-1.11.0-cp37-cp37m-manylinux_2_12_x86_64.manylinux2010_x86_64.whl (12.8 MB)\n",
            "\u001b[K     |████████████████████████████████| 12.8 MB 5.1 MB/s \n",
            "\u001b[?25hRequirement already satisfied: protobuf>=3.12.2 in /usr/local/lib/python3.7/dist-packages (from onnx) (3.17.3)\n",
            "Requirement already satisfied: typing-extensions>=3.6.2.1 in /usr/local/lib/python3.7/dist-packages (from onnx) (3.10.0.2)\n",
            "Requirement already satisfied: numpy>=1.16.6 in /usr/local/lib/python3.7/dist-packages (from onnx) (1.21.5)\n",
            "Requirement already satisfied: six>=1.9 in /usr/local/lib/python3.7/dist-packages (from protobuf>=3.12.2->onnx) (1.15.0)\n",
            "Installing collected packages: onnx\n",
            "Successfully installed onnx-1.11.0\n"
          ]
        }
      ]
    },
    {
      "cell_type": "code",
      "source": [
        "import onnx\n",
        "import sys\n",
        "import os\n",
        "from tqdm import tqdm\n",
        "sys.path.insert(0,\"/content/master-thesis-automatic-selection/searchengine\")\n",
        "from model_resolution.model_resolution import ModelResolution"
      ],
      "metadata": {
        "id": "0b-mdaoDznhM"
      },
      "execution_count": 33,
      "outputs": []
    },
    {
      "cell_type": "code",
      "source": [
        "import glob\n",
        "paths = glob.glob('/content/models/onnx_zoo/**/*.onnx', recursive=True)"
      ],
      "metadata": {
        "id": "jQCAgD1kzqLm"
      },
      "execution_count": 14,
      "outputs": []
    },
    {
      "cell_type": "code",
      "source": [
        "len(paths)"
      ],
      "metadata": {
        "colab": {
          "base_uri": "https://localhost:8080/"
        },
        "id": "WQoxSwfkUVw2",
        "outputId": "a2ae2d96-f9f6-4bf2-f93b-3ff99a256892"
      },
      "execution_count": 16,
      "outputs": [
        {
          "output_type": "execute_result",
          "data": {
            "text/plain": [
              "487"
            ]
          },
          "metadata": {},
          "execution_count": 16
        }
      ]
    },
    {
      "cell_type": "code",
      "source": [
        "paths[190]"
      ],
      "metadata": {
        "colab": {
          "base_uri": "https://localhost:8080/",
          "height": 35
        },
        "id": "hRIprivpbgFl",
        "outputId": "e8fcd949-6236-4fd9-afb1-f567d1b25d2e"
      },
      "execution_count": 40,
      "outputs": [
        {
          "output_type": "execute_result",
          "data": {
            "text/plain": [
              "'/content/models/onnx_zoo/timm/timm_ecaresnet50d_pruned_imagenet_11.onnx'"
            ],
            "application/vnd.google.colaboratory.intrinsic+json": {
              "type": "string"
            }
          },
          "metadata": {},
          "execution_count": 40
        }
      ]
    },
    {
      "cell_type": "code",
      "source": [
        "%autoreload 2\n",
        "ModelResolution(paths[190],output_size=[2,2]).minimal_resolution"
      ],
      "metadata": {
        "colab": {
          "base_uri": "https://localhost:8080/"
        },
        "id": "hFGd46gtafvo",
        "outputId": "52324c18-ed68-43b8-ca57-e4711598bb44"
      },
      "execution_count": 41,
      "outputs": [
        {
          "output_type": "execute_result",
          "data": {
            "text/plain": [
              "[33, 33]"
            ]
          },
          "metadata": {},
          "execution_count": 41
        }
      ]
    },
    {
      "cell_type": "code",
      "source": [
        "%load_ext autoreload"
      ],
      "metadata": {
        "id": "apids79yYfs-"
      },
      "execution_count": 27,
      "outputs": []
    },
    {
      "cell_type": "code",
      "source": [
        "%autoreload 2\n",
        "file_dict={os.path.basename(path)[:-5] : ModelResolution(path,output_size=[2,2]).minimal_resolution for path in tqdm(paths)}"
      ],
      "metadata": {
        "colab": {
          "base_uri": "https://localhost:8080/"
        },
        "id": "j-GPriyrUXeU",
        "outputId": "5e4cd8c0-c0f3-485f-fbb8-26cc6fc8ced2"
      },
      "execution_count": 43,
      "outputs": [
        {
          "output_type": "stream",
          "name": "stderr",
          "text": [
            "100%|██████████| 487/487 [08:40<00:00,  1.07s/it]\n"
          ]
        }
      ]
    },
    {
      "cell_type": "code",
      "source": [
        "import pandas as pd\n",
        "df=pd.DataFrame.from_dict(file_dict, orient='index')\n",
        "df.reset_index(inplace=True)\n",
        "df.rename(columns={\"index\":\"Name\",0:\"Width\",1:\"Height\"},inplace=True)"
      ],
      "metadata": {
        "id": "Lzech1bRUwCH"
      },
      "execution_count": 53,
      "outputs": []
    },
    {
      "cell_type": "code",
      "source": [
        "df.to_csv(\"minimal_resolution_onnx_zoo.csv\")"
      ],
      "metadata": {
        "id": "qAgVSIfKgkXa"
      },
      "execution_count": 54,
      "outputs": []
    },
    {
      "cell_type": "code",
      "source": [
        ""
      ],
      "metadata": {
        "id": "KEFRg2HnhBN8"
      },
      "execution_count": null,
      "outputs": []
    }
  ]
}