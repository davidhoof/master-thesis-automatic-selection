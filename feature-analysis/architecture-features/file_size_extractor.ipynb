{
  "nbformat": 4,
  "nbformat_minor": 0,
  "metadata": {
    "colab": {
      "name": "OnnxFileSize.ipynb",
      "provenance": [],
      "collapsed_sections": []
    },
    "kernelspec": {
      "name": "python3",
      "display_name": "Python 3"
    },
    "language_info": {
      "name": "python"
    }
  },
  "cells": [
    {
      "cell_type": "code",
      "source": [
        "!wget -c \"https://onedrive.live.com/download?cid=A5E3C415BF70F5D8&resid=A5E3C415BF70F5D8%217785&authkey=AP5Xz9M015K8zbc\" -O \"onnx_partial.tar.xz\""
      ],
      "metadata": {
        "colab": {
          "base_uri": "https://localhost:8080/"
        },
        "id": "zq4P7JUaftR0",
        "outputId": "5ce32aaf-35b7-4028-d256-a545adbdbca2"
      },
      "execution_count": null,
      "outputs": [
        {
          "output_type": "stream",
          "name": "stdout",
          "text": [
            "--2022-05-22 10:57:10--  https://onedrive.live.com/download?cid=A5E3C415BF70F5D8&resid=A5E3C415BF70F5D8%217785&authkey=AP5Xz9M015K8zbc\n",
            "Resolving onedrive.live.com (onedrive.live.com)... 13.107.42.13\n",
            "Connecting to onedrive.live.com (onedrive.live.com)|13.107.42.13|:443... connected.\n",
            "HTTP request sent, awaiting response... 302 Found\n",
            "Location: https://piqdcg.db.files.1drv.com/y4m4MdFww-YSIm8Ya9RgRaxpE6msx4t-H8VP9nX6Om05yBxqtUZvqn9_6kuF5TJ6THRe-ZoanOMex5F3vifEgodR-6JJzRXRaPc8Q-7T9iet18TDsZhQ2qxnI2sR9k1u7qty_Cb1xE0vEFx-uaNSZK7a_8Hx0h25xSnyjMzXixS-hwNEHUoae47DatbW2XpiSu6dJCYOKz6WJtb1VSNo8-IMA/onnx_partial.tar.xz?download&psid=1 [following]\n",
            "--2022-05-22 10:57:11--  https://piqdcg.db.files.1drv.com/y4m4MdFww-YSIm8Ya9RgRaxpE6msx4t-H8VP9nX6Om05yBxqtUZvqn9_6kuF5TJ6THRe-ZoanOMex5F3vifEgodR-6JJzRXRaPc8Q-7T9iet18TDsZhQ2qxnI2sR9k1u7qty_Cb1xE0vEFx-uaNSZK7a_8Hx0h25xSnyjMzXixS-hwNEHUoae47DatbW2XpiSu6dJCYOKz6WJtb1VSNo8-IMA/onnx_partial.tar.xz?download&psid=1\n",
            "Resolving piqdcg.db.files.1drv.com (piqdcg.db.files.1drv.com)... 13.107.42.12\n",
            "Connecting to piqdcg.db.files.1drv.com (piqdcg.db.files.1drv.com)|13.107.42.12|:443... connected.\n",
            "HTTP request sent, awaiting response... 200 OK\n",
            "Length: 63795756688 (59G) [application/octet-stream]\n",
            "Saving to: ‘onnx_partial.tar.xz’\n",
            "\n",
            "onnx_partial.tar.xz 100%[===================>]  59.41G  31.6MB/s    in 31m 32s \n",
            "\n",
            "2022-05-22 11:28:44 (32.2 MB/s) - ‘onnx_partial.tar.xz’ saved [63795756688/63795756688]\n",
            "\n"
          ]
        }
      ]
    },
    {
      "cell_type": "code",
      "source": [
        "!mkdir /content/models/\n",
        "!tar -xf onnx_partial.tar.xz -C /content/models/"
      ],
      "metadata": {
        "id": "EA4_56RSzayx"
      },
      "execution_count": null,
      "outputs": []
    },
    {
      "cell_type": "code",
      "source": [
        "!git clone https://github.com/davidhoof/master-thesis-automatic-selection.git"
      ],
      "metadata": {
        "colab": {
          "base_uri": "https://localhost:8080/"
        },
        "id": "IMic2ugty-rf",
        "outputId": "72dfe187-0c69-40be-def4-d7ac9773f465"
      },
      "execution_count": null,
      "outputs": [
        {
          "output_type": "stream",
          "name": "stdout",
          "text": [
            "Cloning into 'master-thesis-automatic-selection'...\n",
            "remote: Enumerating objects: 196, done.\u001b[K\n",
            "remote: Counting objects: 100% (49/49), done.\u001b[K\n",
            "remote: Compressing objects: 100% (37/37), done.\u001b[K\n",
            "remote: Total 196 (delta 9), reused 48 (delta 9), pack-reused 147\u001b[K\n",
            "Receiving objects: 100% (196/196), 48.29 MiB | 29.65 MiB/s, done.\n",
            "Resolving deltas: 100% (71/71), done.\n"
          ]
        }
      ]
    },
    {
      "cell_type": "code",
      "source": [
        "!pip install onnx"
      ],
      "metadata": {
        "colab": {
          "base_uri": "https://localhost:8080/"
        },
        "id": "d1bR2SSaUI4o",
        "outputId": "2b20c3d9-dda5-4907-b7b5-a6bc566dc307"
      },
      "execution_count": null,
      "outputs": [
        {
          "output_type": "stream",
          "name": "stdout",
          "text": [
            "Collecting onnx\n",
            "  Downloading onnx-1.11.0-cp37-cp37m-manylinux_2_12_x86_64.manylinux2010_x86_64.whl (12.8 MB)\n",
            "\u001b[K     |████████████████████████████████| 12.8 MB 5.3 MB/s \n",
            "\u001b[?25hRequirement already satisfied: protobuf>=3.12.2 in /usr/local/lib/python3.7/dist-packages (from onnx) (3.17.3)\n",
            "Requirement already satisfied: typing-extensions>=3.6.2.1 in /usr/local/lib/python3.7/dist-packages (from onnx) (4.2.0)\n",
            "Requirement already satisfied: numpy>=1.16.6 in /usr/local/lib/python3.7/dist-packages (from onnx) (1.21.6)\n",
            "Requirement already satisfied: six>=1.9 in /usr/local/lib/python3.7/dist-packages (from protobuf>=3.12.2->onnx) (1.15.0)\n",
            "Installing collected packages: onnx\n",
            "Successfully installed onnx-1.11.0\n"
          ]
        }
      ]
    },
    {
      "cell_type": "code",
      "source": [
        "import onnx\n",
        "import sys\n",
        "import os\n",
        "from tqdm import tqdm"
      ],
      "metadata": {
        "id": "0b-mdaoDznhM"
      },
      "execution_count": null,
      "outputs": []
    },
    {
      "cell_type": "code",
      "source": [
        "import glob\n",
        "paths = glob.glob('/content/models/onnx_zoo/**/*.onnx', recursive=True)"
      ],
      "metadata": {
        "id": "jQCAgD1kzqLm"
      },
      "execution_count": null,
      "outputs": []
    },
    {
      "cell_type": "code",
      "source": [
        "len(paths)"
      ],
      "metadata": {
        "colab": {
          "base_uri": "https://localhost:8080/"
        },
        "id": "WQoxSwfkUVw2",
        "outputId": "840e497e-bd0d-4e62-f5ad-aefa5841847d"
      },
      "execution_count": null,
      "outputs": [
        {
          "output_type": "execute_result",
          "data": {
            "text/plain": [
              "487"
            ]
          },
          "metadata": {},
          "execution_count": 7
        }
      ]
    },
    {
      "cell_type": "code",
      "source": [
        "def convertFloatToDecimal(f=0.0, precision=2):\n",
        "    '''\n",
        "    Convert a float to string of decimal.\n",
        "    precision: by default 2.\n",
        "    If no arg provided, return \"0.00\".\n",
        "    '''\n",
        "    return (\"%.\" + str(precision) + \"f\") % f\n",
        "\n",
        "def formatFileSize(size, sizeIn, sizeOut, precision=0):\n",
        "    '''\n",
        "    Convert file size to a string representing its value in B, KB, MB and GB.\n",
        "    The convention is based on sizeIn as original unit and sizeOut\n",
        "    as final unit. \n",
        "    '''\n",
        "    assert sizeIn.upper() in {\"B\", \"KB\", \"MB\", \"GB\"}, \"sizeIn type error\"\n",
        "    assert sizeOut.upper() in {\"B\", \"KB\", \"MB\", \"GB\"}, \"sizeOut type error\"\n",
        "    if sizeIn == \"B\":\n",
        "        if sizeOut == \"B\":\n",
        "          return size\n",
        "        if sizeOut == \"KB\":\n",
        "            return convertFloatToDecimal((size/1024.0), precision)\n",
        "        elif sizeOut == \"MB\":\n",
        "            return convertFloatToDecimal((size/1024.0**2), precision)\n",
        "        elif sizeOut == \"GB\":\n",
        "            return convertFloatToDecimal((size/1024.0**3), precision)\n",
        "    elif sizeIn == \"KB\":\n",
        "        if sizeOut == \"B\":\n",
        "            return convertFloatToDecimal((size*1024.0), precision)\n",
        "        elif sizeOut == \"MB\":\n",
        "            return convertFloatToDecimal((size/1024.0), precision)\n",
        "        elif sizeOut == \"GB\":\n",
        "            return convertFloatToDecimal((size/1024.0**2), precision)\n",
        "    elif sizeIn == \"MB\":\n",
        "        if sizeOut == \"B\":\n",
        "            return convertFloatToDecimal((size*1024.0**2), precision)\n",
        "        elif sizeOut == \"KB\":\n",
        "            return convertFloatToDecimal((size*1024.0), precision)\n",
        "        elif sizeOut == \"GB\":\n",
        "            return convertFloatToDecimal((size/1024.0), precision)\n",
        "    elif sizeIn == \"GB\":\n",
        "        if sizeOut == \"B\":\n",
        "            return convertFloatToDecimal((size*1024.0**3), precision)\n",
        "        elif sizeOut == \"KB\":\n",
        "            return convertFloatToDecimal((size*1024.0**2), precision)\n",
        "        elif sizeOut == \"MB\":\n",
        "            return convertFloatToDecimal((size*1024.0), precision)"
      ],
      "metadata": {
        "id": "N3nO1bHG43CF"
      },
      "execution_count": null,
      "outputs": []
    },
    {
      "cell_type": "code",
      "source": [
        "def get_size_range(size):    \n",
        "  if size/1024>1 and size/1024<=1024:\n",
        "    return \"KB\"\n",
        "  if size/1024.0**2>1 and size/1024.0**2<=1024:\n",
        "    return \"MB\"\n",
        "  if size/1024.0**3>1 and size/1024.0**3<=1024:\n",
        "    return \"GB\"\n",
        "  return \"B\""
      ],
      "metadata": {
        "id": "mTQWhERA5Qvc"
      },
      "execution_count": null,
      "outputs": []
    },
    {
      "cell_type": "code",
      "source": [
        "get_size_range(1024)"
      ],
      "metadata": {
        "colab": {
          "base_uri": "https://localhost:8080/",
          "height": 35
        },
        "id": "C-un31vj50UN",
        "outputId": "36f2e3eb-24ca-4786-92fa-473ff322a091"
      },
      "execution_count": null,
      "outputs": [
        {
          "output_type": "execute_result",
          "data": {
            "text/plain": [
              "'B'"
            ],
            "application/vnd.google.colaboratory.intrinsic+json": {
              "type": "string"
            }
          },
          "metadata": {},
          "execution_count": 82
        }
      ]
    },
    {
      "cell_type": "code",
      "source": [
        "formatFileSize(1024,'B',get_size_range(1024),2)"
      ],
      "metadata": {
        "colab": {
          "base_uri": "https://localhost:8080/"
        },
        "id": "tWu-PVAe488s",
        "outputId": "37686b9a-024b-4856-b18e-39d0b14b0442"
      },
      "execution_count": null,
      "outputs": [
        {
          "output_type": "execute_result",
          "data": {
            "text/plain": [
              "1024"
            ]
          },
          "metadata": {},
          "execution_count": 83
        }
      ]
    },
    {
      "cell_type": "code",
      "source": [
        "file_dict={os.path.basename(path)[:-5] : str(formatFileSize(os.path.getsize(path),'B',get_size_range(os.path.getsize(path)),2))+get_size_range(os.path.getsize(path)) for path in tqdm(paths)}"
      ],
      "metadata": {
        "colab": {
          "base_uri": "https://localhost:8080/"
        },
        "id": "j-GPriyrUXeU",
        "outputId": "540772b1-2154-4847-d272-1acb0384c7ee"
      },
      "execution_count": null,
      "outputs": [
        {
          "output_type": "stream",
          "name": "stderr",
          "text": [
            "100%|██████████| 487/487 [00:00<00:00, 44462.91it/s]\n"
          ]
        }
      ]
    },
    {
      "cell_type": "code",
      "source": [
        "import pandas as pd\n",
        "df=pd.DataFrame.from_dict(file_dict, orient='index')\n",
        "df.reset_index(inplace=True)\n",
        "df.rename(columns={\"index\":\"Name\",0:\"Filesize\"},inplace=True)"
      ],
      "metadata": {
        "id": "Lzech1bRUwCH"
      },
      "execution_count": null,
      "outputs": []
    },
    {
      "cell_type": "code",
      "source": [
        "df"
      ],
      "metadata": {
        "colab": {
          "base_uri": "https://localhost:8080/",
          "height": 424
        },
        "id": "HVPriXlE3Tav",
        "outputId": "32a6c5d6-41d0-4045-d003-3838d3ea57ca"
      },
      "execution_count": null,
      "outputs": [
        {
          "output_type": "execute_result",
          "data": {
            "text/plain": [
              "                                               Name  Filesize\n",
              "0                       cyclegan_style_vangogh_g_11   43.47MB\n",
              "1          mealv2_mobilenetv3_small_100_imagenet_11    9.71MB\n",
              "2                      mealv1_resnest50_imagenet_11   97.40MB\n",
              "3    pytorchencoding_deeplab_resnest101_pcontext_11  246.79MB\n",
              "4              cyclegan_cityscapes_photo2label_g_11   43.47MB\n",
              "..                                              ...       ...\n",
              "482                       squeezenet1_0_imagenet_11    4.77MB\n",
              "483                               vgg13_imagenet_11  507.54MB\n",
              "484                            vgg16_bn_imagenet_11  527.80MB\n",
              "485                    wide_resnet101_2_imagenet_11  483.79MB\n",
              "486                           googlenet_imagenet_11   25.26MB\n",
              "\n",
              "[487 rows x 2 columns]"
            ],
            "text/html": [
              "\n",
              "  <div id=\"df-acae9c28-4870-4f80-8a84-9df995a3ac86\">\n",
              "    <div class=\"colab-df-container\">\n",
              "      <div>\n",
              "<style scoped>\n",
              "    .dataframe tbody tr th:only-of-type {\n",
              "        vertical-align: middle;\n",
              "    }\n",
              "\n",
              "    .dataframe tbody tr th {\n",
              "        vertical-align: top;\n",
              "    }\n",
              "\n",
              "    .dataframe thead th {\n",
              "        text-align: right;\n",
              "    }\n",
              "</style>\n",
              "<table border=\"1\" class=\"dataframe\">\n",
              "  <thead>\n",
              "    <tr style=\"text-align: right;\">\n",
              "      <th></th>\n",
              "      <th>Name</th>\n",
              "      <th>Filesize</th>\n",
              "    </tr>\n",
              "  </thead>\n",
              "  <tbody>\n",
              "    <tr>\n",
              "      <th>0</th>\n",
              "      <td>cyclegan_style_vangogh_g_11</td>\n",
              "      <td>43.47MB</td>\n",
              "    </tr>\n",
              "    <tr>\n",
              "      <th>1</th>\n",
              "      <td>mealv2_mobilenetv3_small_100_imagenet_11</td>\n",
              "      <td>9.71MB</td>\n",
              "    </tr>\n",
              "    <tr>\n",
              "      <th>2</th>\n",
              "      <td>mealv1_resnest50_imagenet_11</td>\n",
              "      <td>97.40MB</td>\n",
              "    </tr>\n",
              "    <tr>\n",
              "      <th>3</th>\n",
              "      <td>pytorchencoding_deeplab_resnest101_pcontext_11</td>\n",
              "      <td>246.79MB</td>\n",
              "    </tr>\n",
              "    <tr>\n",
              "      <th>4</th>\n",
              "      <td>cyclegan_cityscapes_photo2label_g_11</td>\n",
              "      <td>43.47MB</td>\n",
              "    </tr>\n",
              "    <tr>\n",
              "      <th>...</th>\n",
              "      <td>...</td>\n",
              "      <td>...</td>\n",
              "    </tr>\n",
              "    <tr>\n",
              "      <th>482</th>\n",
              "      <td>squeezenet1_0_imagenet_11</td>\n",
              "      <td>4.77MB</td>\n",
              "    </tr>\n",
              "    <tr>\n",
              "      <th>483</th>\n",
              "      <td>vgg13_imagenet_11</td>\n",
              "      <td>507.54MB</td>\n",
              "    </tr>\n",
              "    <tr>\n",
              "      <th>484</th>\n",
              "      <td>vgg16_bn_imagenet_11</td>\n",
              "      <td>527.80MB</td>\n",
              "    </tr>\n",
              "    <tr>\n",
              "      <th>485</th>\n",
              "      <td>wide_resnet101_2_imagenet_11</td>\n",
              "      <td>483.79MB</td>\n",
              "    </tr>\n",
              "    <tr>\n",
              "      <th>486</th>\n",
              "      <td>googlenet_imagenet_11</td>\n",
              "      <td>25.26MB</td>\n",
              "    </tr>\n",
              "  </tbody>\n",
              "</table>\n",
              "<p>487 rows × 2 columns</p>\n",
              "</div>\n",
              "      <button class=\"colab-df-convert\" onclick=\"convertToInteractive('df-acae9c28-4870-4f80-8a84-9df995a3ac86')\"\n",
              "              title=\"Convert this dataframe to an interactive table.\"\n",
              "              style=\"display:none;\">\n",
              "        \n",
              "  <svg xmlns=\"http://www.w3.org/2000/svg\" height=\"24px\"viewBox=\"0 0 24 24\"\n",
              "       width=\"24px\">\n",
              "    <path d=\"M0 0h24v24H0V0z\" fill=\"none\"/>\n",
              "    <path d=\"M18.56 5.44l.94 2.06.94-2.06 2.06-.94-2.06-.94-.94-2.06-.94 2.06-2.06.94zm-11 1L8.5 8.5l.94-2.06 2.06-.94-2.06-.94L8.5 2.5l-.94 2.06-2.06.94zm10 10l.94 2.06.94-2.06 2.06-.94-2.06-.94-.94-2.06-.94 2.06-2.06.94z\"/><path d=\"M17.41 7.96l-1.37-1.37c-.4-.4-.92-.59-1.43-.59-.52 0-1.04.2-1.43.59L10.3 9.45l-7.72 7.72c-.78.78-.78 2.05 0 2.83L4 21.41c.39.39.9.59 1.41.59.51 0 1.02-.2 1.41-.59l7.78-7.78 2.81-2.81c.8-.78.8-2.07 0-2.86zM5.41 20L4 18.59l7.72-7.72 1.47 1.35L5.41 20z\"/>\n",
              "  </svg>\n",
              "      </button>\n",
              "      \n",
              "  <style>\n",
              "    .colab-df-container {\n",
              "      display:flex;\n",
              "      flex-wrap:wrap;\n",
              "      gap: 12px;\n",
              "    }\n",
              "\n",
              "    .colab-df-convert {\n",
              "      background-color: #E8F0FE;\n",
              "      border: none;\n",
              "      border-radius: 50%;\n",
              "      cursor: pointer;\n",
              "      display: none;\n",
              "      fill: #1967D2;\n",
              "      height: 32px;\n",
              "      padding: 0 0 0 0;\n",
              "      width: 32px;\n",
              "    }\n",
              "\n",
              "    .colab-df-convert:hover {\n",
              "      background-color: #E2EBFA;\n",
              "      box-shadow: 0px 1px 2px rgba(60, 64, 67, 0.3), 0px 1px 3px 1px rgba(60, 64, 67, 0.15);\n",
              "      fill: #174EA6;\n",
              "    }\n",
              "\n",
              "    [theme=dark] .colab-df-convert {\n",
              "      background-color: #3B4455;\n",
              "      fill: #D2E3FC;\n",
              "    }\n",
              "\n",
              "    [theme=dark] .colab-df-convert:hover {\n",
              "      background-color: #434B5C;\n",
              "      box-shadow: 0px 1px 3px 1px rgba(0, 0, 0, 0.15);\n",
              "      filter: drop-shadow(0px 1px 2px rgba(0, 0, 0, 0.3));\n",
              "      fill: #FFFFFF;\n",
              "    }\n",
              "  </style>\n",
              "\n",
              "      <script>\n",
              "        const buttonEl =\n",
              "          document.querySelector('#df-acae9c28-4870-4f80-8a84-9df995a3ac86 button.colab-df-convert');\n",
              "        buttonEl.style.display =\n",
              "          google.colab.kernel.accessAllowed ? 'block' : 'none';\n",
              "\n",
              "        async function convertToInteractive(key) {\n",
              "          const element = document.querySelector('#df-acae9c28-4870-4f80-8a84-9df995a3ac86');\n",
              "          const dataTable =\n",
              "            await google.colab.kernel.invokeFunction('convertToInteractive',\n",
              "                                                     [key], {});\n",
              "          if (!dataTable) return;\n",
              "\n",
              "          const docLinkHtml = 'Like what you see? Visit the ' +\n",
              "            '<a target=\"_blank\" href=https://colab.research.google.com/notebooks/data_table.ipynb>data table notebook</a>'\n",
              "            + ' to learn more about interactive tables.';\n",
              "          element.innerHTML = '';\n",
              "          dataTable['output_type'] = 'display_data';\n",
              "          await google.colab.output.renderOutput(dataTable, element);\n",
              "          const docLink = document.createElement('div');\n",
              "          docLink.innerHTML = docLinkHtml;\n",
              "          element.appendChild(docLink);\n",
              "        }\n",
              "      </script>\n",
              "    </div>\n",
              "  </div>\n",
              "  "
            ]
          },
          "metadata": {},
          "execution_count": 92
        }
      ]
    },
    {
      "cell_type": "code",
      "source": [
        "df.to_csv(\"file_size_onnx_zoo.csv\")"
      ],
      "metadata": {
        "id": "qAgVSIfKgkXa"
      },
      "execution_count": null,
      "outputs": []
    }
  ]
}